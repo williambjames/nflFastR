{
  "nbformat": 4,
  "nbformat_minor": 0,
  "metadata": {
    "colab": {
      "name": "adj_epa.ipynb",
      "provenance": [],
      "toc_visible": true
    },
    "kernelspec": {
      "name": "python3",
      "display_name": "Python 3"
    }
  },
  "cells": [
    {
      "cell_type": "markdown",
      "metadata": {
        "id": "82MxBXhm0Kzo",
        "colab_type": "text"
      },
      "source": [
        "# Load In"
      ]
    },
    {
      "cell_type": "code",
      "metadata": {
        "id": "CLyUYpaHzIOf",
        "colab_type": "code",
        "colab": {
          "base_uri": "https://localhost:8080/",
          "height": 250
        },
        "outputId": "ae613c04-1507-4ca2-896b-283102ed6a17"
      },
      "source": [
        "!apt install subversion --quiet\n",
        "!pip install adjustText --quiet\n",
        "!pip install shap --quiet\n",
        "!pip install scikit-garden --quiet"
      ],
      "execution_count": null,
      "outputs": [
        {
          "output_type": "stream",
          "text": [
            "Reading package lists...\n",
            "Building dependency tree...\n",
            "Reading state information...\n",
            "subversion is already the newest version (1.9.7-4ubuntu1).\n",
            "The following package was automatically installed and is no longer required:\n",
            "  libnvidia-common-440\n",
            "Use 'apt autoremove' to remove it.\n",
            "0 upgraded, 0 newly installed, 0 to remove and 35 not upgraded.\n",
            "\u001b[K     |████████████████████████████████| 276kB 3.4MB/s \n",
            "\u001b[?25h  Building wheel for shap (setup.py) ... \u001b[?25l\u001b[?25hdone\n",
            "\u001b[K     |████████████████████████████████| 317kB 3.4MB/s \n",
            "\u001b[?25h  Building wheel for scikit-garden (setup.py) ... \u001b[?25l\u001b[?25hdone\n"
          ],
          "name": "stdout"
        }
      ]
    },
    {
      "cell_type": "code",
      "metadata": {
        "id": "DjmUlmkxNsZf",
        "colab_type": "code",
        "colab": {}
      },
      "source": [
        "pd.set_option('display.max_rows', 100)\n",
        "pd.set_option('display.max_columns', 300)"
      ],
      "execution_count": null,
      "outputs": []
    },
    {
      "cell_type": "code",
      "metadata": {
        "id": "0ahGSszs0RmG",
        "colab_type": "code",
        "colab": {
          "base_uri": "https://localhost:8080/",
          "height": 109
        },
        "outputId": "66f354f5-6f9b-4a82-f444-09a0e4e4e030"
      },
      "source": [
        "import time\n",
        "from joblib import dump, load\n",
        "import random\n",
        "import requests\n",
        "import json\n",
        "import datetime\n",
        "import os\n",
        "import re\n",
        "import pandas as pd\n",
        "import numpy as np \n",
        "import matplotlib.pyplot as plt \n",
        "import seaborn as sns \n",
        "\n",
        "from sklearn.linear_model import LinearRegression, LogisticRegression\n",
        "from sklearn.metrics import accuracy_score, mean_squared_error, log_loss\n",
        "from sklearn.model_selection import KFold \n",
        "\n",
        "from scipy.stats import pearsonr"
      ],
      "execution_count": null,
      "outputs": [
        {
          "output_type": "stream",
          "text": [
            "/usr/local/lib/python3.6/dist-packages/statsmodels/tools/_testing.py:19: FutureWarning: pandas.util.testing is deprecated. Use the functions in the public API at pandas.testing instead.\n",
            "  import pandas.util.testing as tm\n"
          ],
          "name": "stderr"
        }
      ]
    },
    {
      "cell_type": "code",
      "metadata": {
        "id": "6eTkDN0S0xGR",
        "colab_type": "code",
        "colab": {
          "base_uri": "https://localhost:8080/",
          "height": 32
        },
        "outputId": "9d8e7577-a1d8-412a-b528-16ff0d6645fc"
      },
      "source": [
        "nflfastr_dir = '/content/drive/My Drive/nflfastR-data'\n",
        "data_type = '.parquet'\n",
        "files_to_load = [f\"{nflfastr_dir}/data/{x}\" for x in os.listdir(f\"{nflfastr_dir}/data\") if x.endswith(data_type)]\n",
        "\n",
        "# this loads the data into a `pandas` dataframe and appends each file to the dataframe  \n",
        "df = pd.DataFrame()\n",
        "for fn in files_to_load:\n",
        "  _df = pd.read_parquet(fn) \n",
        "  df = df.append(_df,ignore_index=True)\n",
        "\n",
        "# this is for verification that we loaded in a bunch of data. This is the rows X columns of the dataframe\n",
        "print(df.shape)"
      ],
      "execution_count": null,
      "outputs": [
        {
          "output_type": "stream",
          "text": [
            "(996549, 322)\n"
          ],
          "name": "stdout"
        }
      ]
    },
    {
      "cell_type": "code",
      "metadata": {
        "id": "MR36RnqT2MCT",
        "colab_type": "code",
        "colab": {
          "base_uri": "https://localhost:8080/",
          "height": 34
        },
        "outputId": "48704089-5743-4bb5-98c4-aa8c2f0218cd"
      },
      "source": [
        ""
      ],
      "execution_count": null,
      "outputs": [
        {
          "output_type": "execute_result",
          "data": {
            "text/plain": [
              "(48034, 322)"
            ]
          },
          "metadata": {
            "tags": []
          },
          "execution_count": 17
        }
      ]
    },
    {
      "cell_type": "markdown",
      "metadata": {
        "id": "iCm3qoEl0_Vb",
        "colab_type": "text"
      },
      "source": [
        "# Data Play"
      ]
    },
    {
      "cell_type": "markdown",
      "metadata": {
        "id": "WzCkzvir1JdS",
        "colab_type": "text"
      },
      "source": [
        "My first thought when it comes to making an adjusted EPA value is super menial. What I'll do is find the average EPA/Play value for each defense, for both run and pass plays. I'll merge this dataframe into the play by play data frame, and create a new weighted value from `EPA` -`weight` to produce an adjusted value."
      ]
    },
    {
      "cell_type": "markdown",
      "metadata": {
        "id": "9J2ERlXlJeDT",
        "colab_type": "text"
      },
      "source": [
        "First let's clean the data"
      ]
    },
    {
      "cell_type": "code",
      "metadata": {
        "id": "kTYPM7rY1led",
        "colab_type": "code",
        "colab": {
          "base_uri": "https://localhost:8080/",
          "height": 32
        },
        "outputId": "472ca56d-02f4-4240-fdc3-58bf570550d6"
      },
      "source": [
        "df = df.dropna(subset=['epa']).loc[~(df['play_type']=='no_play')& ((df['rush']==1)|(df['pass']==1)) & (df['season']>=2002)]\n",
        "df.shape"
      ],
      "execution_count": null,
      "outputs": [
        {
          "output_type": "execute_result",
          "data": {
            "text/plain": [
              "(368322, 322)"
            ]
          },
          "metadata": {
            "tags": []
          },
          "execution_count": 194
        }
      ]
    },
    {
      "cell_type": "markdown",
      "metadata": {
        "id": "81Ix9xlsJi0E",
        "colab_type": "text"
      },
      "source": [
        "Now we'll find our weights\n"
      ]
    },
    {
      "cell_type": "code",
      "metadata": {
        "id": "mojwf1F42OnP",
        "colab_type": "code",
        "colab": {}
      },
      "source": [
        "weights = df.loc[:,['epa','play_type','defteam','season']].groupby(['defteam','play_type','season'],as_index=False).agg({'epa':'mean'})\n",
        "weights = weights.rename(columns={'epa':'weight'})\n",
        "weights.columns"
      ],
      "execution_count": null,
      "outputs": []
    },
    {
      "cell_type": "markdown",
      "metadata": {
        "id": "T20v0FYEJ6zZ",
        "colab_type": "text"
      },
      "source": [
        "Merge them together"
      ]
    },
    {
      "cell_type": "code",
      "metadata": {
        "id": "ysG6BLiq4B-p",
        "colab_type": "code",
        "colab": {}
      },
      "source": [
        "df_adj = pd.merge(df, weights[['defteam','play_type','season','weight']],on=['defteam','play_type','season'])"
      ],
      "execution_count": null,
      "outputs": []
    },
    {
      "cell_type": "markdown",
      "metadata": {
        "id": "WbYuAkiqJ9bS",
        "colab_type": "text"
      },
      "source": [
        "Make the adjustment"
      ]
    },
    {
      "cell_type": "code",
      "metadata": {
        "id": "PFdW9HV14qys",
        "colab_type": "code",
        "colab": {}
      },
      "source": [
        "df_adj['adj_epa'] = df_adj['epa'].sub(df_adj['weight'])\n",
        "df_adj['change'] = df_adj['adj_epa'].sub(df_adj['epa'])\n"
      ],
      "execution_count": null,
      "outputs": []
    },
    {
      "cell_type": "code",
      "metadata": {
        "id": "pDoxgTPa7Lc3",
        "colab_type": "code",
        "colab": {}
      },
      "source": [
        "df_adj = df_adj.loc[:,['posteam','epa','adj_epa','change','play_type','season']].groupby(['posteam','season'],as_index=False).agg({'epa':'mean','adj_epa':'mean','change':'mean'})\n",
        "df_adj = df_adj.rename(columns=({'posteam':'team'}))"
      ],
      "execution_count": null,
      "outputs": []
    },
    {
      "cell_type": "code",
      "metadata": {
        "id": "Kdj7PZb_HDWE",
        "colab_type": "code",
        "colab": {}
      },
      "source": [
        "df_adj = df_adj.sort_values('epa',ascending=False)\n"
      ],
      "execution_count": null,
      "outputs": []
    },
    {
      "cell_type": "markdown",
      "metadata": {
        "id": "4Sq99fNz72Zq",
        "colab_type": "text"
      },
      "source": [
        "# Add Wins to the DF"
      ]
    },
    {
      "cell_type": "code",
      "metadata": {
        "id": "ZdsSIlYTH_dJ",
        "colab_type": "code",
        "colab": {}
      },
      "source": [
        "wins = pd.read_csv('/content/standings_fixed.csv')"
      ],
      "execution_count": null,
      "outputs": []
    },
    {
      "cell_type": "code",
      "metadata": {
        "id": "bP0GdawYI4u5",
        "colab_type": "code",
        "colab": {}
      },
      "source": [
        "results = pd.merge(df_adj, wins[['team','wins','season']],on=['team','season'])"
      ],
      "execution_count": null,
      "outputs": []
    },
    {
      "cell_type": "code",
      "metadata": {
        "id": "Rg1ujlTuJTV6",
        "colab_type": "code",
        "colab": {
          "base_uri": "https://localhost:8080/",
          "height": 411
        },
        "outputId": "778b227b-7a48-419d-a734-0d8042beea00"
      },
      "source": [
        "results.sort_values('adj_epa',ascending=False)"
      ],
      "execution_count": null,
      "outputs": [
        {
          "output_type": "execute_result",
          "data": {
            "text/html": [
              "<div>\n",
              "<style scoped>\n",
              "    .dataframe tbody tr th:only-of-type {\n",
              "        vertical-align: middle;\n",
              "    }\n",
              "\n",
              "    .dataframe tbody tr th {\n",
              "        vertical-align: top;\n",
              "    }\n",
              "\n",
              "    .dataframe thead th {\n",
              "        text-align: right;\n",
              "    }\n",
              "</style>\n",
              "<table border=\"1\" class=\"dataframe\">\n",
              "  <thead>\n",
              "    <tr style=\"text-align: right;\">\n",
              "      <th></th>\n",
              "      <th>team</th>\n",
              "      <th>season</th>\n",
              "      <th>epa</th>\n",
              "      <th>adj_epa</th>\n",
              "      <th>change</th>\n",
              "      <th>wins</th>\n",
              "    </tr>\n",
              "  </thead>\n",
              "  <tbody>\n",
              "    <tr>\n",
              "      <th>7</th>\n",
              "      <td>NE</td>\n",
              "      <td>2010</td>\n",
              "      <td>0.187443</td>\n",
              "      <td>0.220615</td>\n",
              "      <td>0.033172</td>\n",
              "      <td>14</td>\n",
              "    </tr>\n",
              "    <tr>\n",
              "      <th>0</th>\n",
              "      <td>KC</td>\n",
              "      <td>2018</td>\n",
              "      <td>0.234318</td>\n",
              "      <td>0.205826</td>\n",
              "      <td>-0.028492</td>\n",
              "      <td>12</td>\n",
              "    </tr>\n",
              "    <tr>\n",
              "      <th>1</th>\n",
              "      <td>NO</td>\n",
              "      <td>2011</td>\n",
              "      <td>0.226899</td>\n",
              "      <td>0.202517</td>\n",
              "      <td>-0.024382</td>\n",
              "      <td>13</td>\n",
              "    </tr>\n",
              "    <tr>\n",
              "      <th>2</th>\n",
              "      <td>ATL</td>\n",
              "      <td>2016</td>\n",
              "      <td>0.213546</td>\n",
              "      <td>0.199020</td>\n",
              "      <td>-0.014526</td>\n",
              "      <td>11</td>\n",
              "    </tr>\n",
              "    <tr>\n",
              "      <th>6</th>\n",
              "      <td>BAL</td>\n",
              "      <td>2019</td>\n",
              "      <td>0.192763</td>\n",
              "      <td>0.198843</td>\n",
              "      <td>0.006081</td>\n",
              "      <td>14</td>\n",
              "    </tr>\n",
              "    <tr>\n",
              "      <th>...</th>\n",
              "      <td>...</td>\n",
              "      <td>...</td>\n",
              "      <td>...</td>\n",
              "      <td>...</td>\n",
              "      <td>...</td>\n",
              "      <td>...</td>\n",
              "    </tr>\n",
              "    <tr>\n",
              "      <th>332</th>\n",
              "      <td>ARI</td>\n",
              "      <td>2010</td>\n",
              "      <td>-0.194537</td>\n",
              "      <td>-0.202087</td>\n",
              "      <td>-0.007551</td>\n",
              "      <td>5</td>\n",
              "    </tr>\n",
              "    <tr>\n",
              "      <th>335</th>\n",
              "      <td>CAR</td>\n",
              "      <td>2010</td>\n",
              "      <td>-0.237441</td>\n",
              "      <td>-0.213280</td>\n",
              "      <td>0.024161</td>\n",
              "      <td>2</td>\n",
              "    </tr>\n",
              "    <tr>\n",
              "      <th>333</th>\n",
              "      <td>LA</td>\n",
              "      <td>2016</td>\n",
              "      <td>-0.214799</td>\n",
              "      <td>-0.236844</td>\n",
              "      <td>-0.022045</td>\n",
              "      <td>4</td>\n",
              "    </tr>\n",
              "    <tr>\n",
              "      <th>336</th>\n",
              "      <td>ARI</td>\n",
              "      <td>2012</td>\n",
              "      <td>-0.243670</td>\n",
              "      <td>-0.241615</td>\n",
              "      <td>0.002055</td>\n",
              "      <td>5</td>\n",
              "    </tr>\n",
              "    <tr>\n",
              "      <th>334</th>\n",
              "      <td>ARI</td>\n",
              "      <td>2018</td>\n",
              "      <td>-0.236024</td>\n",
              "      <td>-0.265096</td>\n",
              "      <td>-0.029072</td>\n",
              "      <td>3</td>\n",
              "    </tr>\n",
              "  </tbody>\n",
              "</table>\n",
              "<p>337 rows × 6 columns</p>\n",
              "</div>"
            ],
            "text/plain": [
              "    team  season       epa   adj_epa    change  wins\n",
              "7     NE    2010  0.187443  0.220615  0.033172    14\n",
              "0     KC    2018  0.234318  0.205826 -0.028492    12\n",
              "1     NO    2011  0.226899  0.202517 -0.024382    13\n",
              "2    ATL    2016  0.213546  0.199020 -0.014526    11\n",
              "6    BAL    2019  0.192763  0.198843  0.006081    14\n",
              "..   ...     ...       ...       ...       ...   ...\n",
              "332  ARI    2010 -0.194537 -0.202087 -0.007551     5\n",
              "335  CAR    2010 -0.237441 -0.213280  0.024161     2\n",
              "333   LA    2016 -0.214799 -0.236844 -0.022045     4\n",
              "336  ARI    2012 -0.243670 -0.241615  0.002055     5\n",
              "334  ARI    2018 -0.236024 -0.265096 -0.029072     3\n",
              "\n",
              "[337 rows x 6 columns]"
            ]
          },
          "metadata": {
            "tags": []
          },
          "execution_count": 214
        }
      ]
    },
    {
      "cell_type": "markdown",
      "metadata": {
        "id": "x2mOoqLH7-95",
        "colab_type": "text"
      },
      "source": [
        "# R^2 Time😎"
      ]
    },
    {
      "cell_type": "code",
      "metadata": {
        "id": "wO4nKWG2KYDq",
        "colab_type": "code",
        "colab": {}
      },
      "source": [
        "def  epa_plot(x,y,title,data,color='k'):\n",
        "  _data = data.dropna(subset=[x,y]) \n",
        "  r2 = pearsonr(_data.loc[:,x],_data.loc[:,y])[0]**2 \n",
        "  rmse = mean_squared_error(_data.loc[:,x],_data.loc[:,y])**0.5 \n",
        "  f = sns.regplot(x,y,data=_data,color=color,line_kws={'color':'k'})\n",
        "  # f.set_aspect('equal')\n",
        "  sns.despine()\n",
        "  plt.title(f'{title}\\nR2: {round(r2,3)}\\nRMSE: {round(rmse,3)}')\n",
        "  plt.show()"
      ],
      "execution_count": null,
      "outputs": []
    },
    {
      "cell_type": "code",
      "metadata": {
        "id": "8coRotAqK5a6",
        "colab_type": "code",
        "colab": {}
      },
      "source": [
        "palette = sns.palettes.hls_palette(10)"
      ],
      "execution_count": null,
      "outputs": []
    },
    {
      "cell_type": "code",
      "metadata": {
        "id": "PnRFUoz2KozR",
        "colab_type": "code",
        "colab": {
          "base_uri": "https://localhost:8080/",
          "height": 631
        },
        "outputId": "aa8dded6-db4f-47eb-bef5-577fad083334"
      },
      "source": [
        "epa_plot('epa','wins','EPA vs. Wins',results,color=palette[0])\n",
        "epa_plot('adj_epa','wins','Adjusted EPA vs. Wins',results,color=palette[1])"
      ],
      "execution_count": null,
      "outputs": [
        {
          "output_type": "display_data",
          "data": {
            "image/png": "[encoded data removed]",
            "text/plain": [
              "<Figure size 432x288 with 1 Axes>"
            ]
          },
          "metadata": {
            "tags": [],
            "needs_background": "light"
          }
        },
        {
          "output_type": "display_data",
          "data": {
            "image/png": "[encoded data removed]",
            "text/plain": [
              "<Figure size 432x288 with 1 Axes>"
            ]
          },
          "metadata": {
            "tags": [],
            "needs_background": "light"
          }
        }
      ]
    },
    {
      "cell_type": "markdown",
      "metadata": {
        "id": "403jZ99zKZwd",
        "colab_type": "text"
      },
      "source": [
        "# Attempt #2\n",
        "\n",
        "I'm thinking since we've seen the effectiveness of the adjustment on only pass/rush plays, I'm gonna try and expand it to include special teams as well."
      ]
    },
    {
      "cell_type": "code",
      "metadata": {
        "id": "D3lNoKO-KSzx",
        "colab_type": "code",
        "colab": {
          "base_uri": "https://localhost:8080/",
          "height": 32
        },
        "outputId": "2c72f4e9-4fa4-44dd-e814-9516f4296062"
      },
      "source": [
        "nflfastr_dir = '/content/drive/My Drive/nflfastR-data'\n",
        "data_type = '.parquet'\n",
        "files_to_load = [f\"{nflfastr_dir}/data/{x}\" for x in os.listdir(f\"{nflfastr_dir}/data\") if x.endswith(data_type)]\n",
        "\n",
        "# this loads the data into a `pandas` dataframe and appends each file to the dataframe  \n",
        "df2 = pd.DataFrame()\n",
        "for fn in files_to_load:\n",
        "  _df = pd.read_parquet(fn) \n",
        "  df2 = df2.append(_df,ignore_index=True)\n",
        "\n",
        "# this is for verification that we loaded in a bunch of data. This is the rows X columns of the dataframe\n",
        "print(df2.shape)"
      ],
      "execution_count": null,
      "outputs": [
        {
          "output_type": "stream",
          "text": [
            "(996549, 322)\n"
          ],
          "name": "stdout"
        }
      ]
    },
    {
      "cell_type": "code",
      "metadata": {
        "id": "0PP-US1wNf_5",
        "colab_type": "code",
        "colab": {
          "base_uri": "https://localhost:8080/",
          "height": 49
        },
        "outputId": "1d6603f2-f2b5-4c8f-8940-7ac02dcb2f68"
      },
      "source": [
        "df2.play_type.values"
      ],
      "execution_count": null,
      "outputs": [
        {
          "output_type": "execute_result",
          "data": {
            "text/plain": [
              "array([None, 'kickoff', 'pass', ..., 'no_play', 'qb_kneel', None],\n",
              "      dtype=object)"
            ]
          },
          "metadata": {
            "tags": []
          },
          "execution_count": 5
        }
      ]
    },
    {
      "cell_type": "code",
      "metadata": {
        "id": "POYpov7RPcWR",
        "colab_type": "code",
        "colab": {}
      },
      "source": [
        "pt = df2.loc[:,['play_type','play_id']].groupby('play_type',as_index=False).agg({'play_id':'count'})"
      ],
      "execution_count": null,
      "outputs": []
    },
    {
      "cell_type": "code",
      "metadata": {
        "id": "kbCiP8q7Ps9w",
        "colab_type": "code",
        "colab": {
          "base_uri": "https://localhost:8080/",
          "height": 322
        },
        "outputId": "645636b1-336f-4d21-f379-52bfbcd6464e"
      },
      "source": [
        "pt"
      ],
      "execution_count": null,
      "outputs": [
        {
          "output_type": "execute_result",
          "data": {
            "text/html": [
              "<div>\n",
              "<style scoped>\n",
              "    .dataframe tbody tr th:only-of-type {\n",
              "        vertical-align: middle;\n",
              "    }\n",
              "\n",
              "    .dataframe tbody tr th {\n",
              "        vertical-align: top;\n",
              "    }\n",
              "\n",
              "    .dataframe thead th {\n",
              "        text-align: right;\n",
              "    }\n",
              "</style>\n",
              "<table border=\"1\" class=\"dataframe\">\n",
              "  <thead>\n",
              "    <tr style=\"text-align: right;\">\n",
              "      <th></th>\n",
              "      <th>play_type</th>\n",
              "      <th>play_id</th>\n",
              "    </tr>\n",
              "  </thead>\n",
              "  <tbody>\n",
              "    <tr>\n",
              "      <th>0</th>\n",
              "      <td>extra_point</td>\n",
              "      <td>25252</td>\n",
              "    </tr>\n",
              "    <tr>\n",
              "      <th>1</th>\n",
              "      <td>field_goal</td>\n",
              "      <td>21092</td>\n",
              "    </tr>\n",
              "    <tr>\n",
              "      <th>2</th>\n",
              "      <td>kickoff</td>\n",
              "      <td>54946</td>\n",
              "    </tr>\n",
              "    <tr>\n",
              "      <th>3</th>\n",
              "      <td>no_play</td>\n",
              "      <td>92806</td>\n",
              "    </tr>\n",
              "    <tr>\n",
              "      <th>4</th>\n",
              "      <td>pass</td>\n",
              "      <td>400290</td>\n",
              "    </tr>\n",
              "    <tr>\n",
              "      <th>5</th>\n",
              "      <td>punt</td>\n",
              "      <td>52978</td>\n",
              "    </tr>\n",
              "    <tr>\n",
              "      <th>6</th>\n",
              "      <td>qb_kneel</td>\n",
              "      <td>7265</td>\n",
              "    </tr>\n",
              "    <tr>\n",
              "      <th>7</th>\n",
              "      <td>qb_spike</td>\n",
              "      <td>1439</td>\n",
              "    </tr>\n",
              "    <tr>\n",
              "      <th>8</th>\n",
              "      <td>run</td>\n",
              "      <td>297125</td>\n",
              "    </tr>\n",
              "  </tbody>\n",
              "</table>\n",
              "</div>"
            ],
            "text/plain": [
              "     play_type  play_id\n",
              "0  extra_point    25252\n",
              "1   field_goal    21092\n",
              "2      kickoff    54946\n",
              "3      no_play    92806\n",
              "4         pass   400290\n",
              "5         punt    52978\n",
              "6     qb_kneel     7265\n",
              "7     qb_spike     1439\n",
              "8          run   297125"
            ]
          },
          "metadata": {
            "tags": []
          },
          "execution_count": 7
        }
      ]
    },
    {
      "cell_type": "markdown",
      "metadata": {
        "id": "zquUjjOiPzSa",
        "colab_type": "text"
      },
      "source": [
        "I think it is only really necessary to take into account the following plays:\n",
        "*   Extra Point\n",
        "*   FG\n",
        "*   Kickoff\n",
        "*   Pass\n",
        "*   Punt\n",
        "*   Run"
      ]
    },
    {
      "cell_type": "code",
      "metadata": {
        "id": "WTheEAZDQSJ_",
        "colab_type": "code",
        "colab": {}
      },
      "source": [
        "df3 = df2.dropna(subset=['epa']).loc[~(df2['play_type']=='no_play')& ~(df2['play_type']=='qb_kneel') & ~(df2['play_type']=='qb_spike') & (df2['season']>=2002)]"
      ],
      "execution_count": null,
      "outputs": []
    },
    {
      "cell_type": "code",
      "metadata": {
        "id": "MgxlDvYsRDBC",
        "colab_type": "code",
        "colab": {
          "base_uri": "https://localhost:8080/",
          "height": 231
        },
        "outputId": "444d65f4-b757-4760-e720-0a41bff40c3d"
      },
      "source": [
        "pt2 = df3.loc[:,['play_type','play_id']].groupby('play_type',as_index=False).agg({'play_id':'count'})\n",
        "pt2"
      ],
      "execution_count": null,
      "outputs": [
        {
          "output_type": "execute_result",
          "data": {
            "text/html": [
              "<div>\n",
              "<style scoped>\n",
              "    .dataframe tbody tr th:only-of-type {\n",
              "        vertical-align: middle;\n",
              "    }\n",
              "\n",
              "    .dataframe tbody tr th {\n",
              "        vertical-align: top;\n",
              "    }\n",
              "\n",
              "    .dataframe thead th {\n",
              "        text-align: right;\n",
              "    }\n",
              "</style>\n",
              "<table border=\"1\" class=\"dataframe\">\n",
              "  <thead>\n",
              "    <tr style=\"text-align: right;\">\n",
              "      <th></th>\n",
              "      <th>play_type</th>\n",
              "      <th>play_id</th>\n",
              "    </tr>\n",
              "  </thead>\n",
              "  <tbody>\n",
              "    <tr>\n",
              "      <th>0</th>\n",
              "      <td>extra_point</td>\n",
              "      <td>22034</td>\n",
              "    </tr>\n",
              "    <tr>\n",
              "      <th>1</th>\n",
              "      <td>field_goal</td>\n",
              "      <td>18103</td>\n",
              "    </tr>\n",
              "    <tr>\n",
              "      <th>2</th>\n",
              "      <td>kickoff</td>\n",
              "      <td>47560</td>\n",
              "    </tr>\n",
              "    <tr>\n",
              "      <th>3</th>\n",
              "      <td>pass</td>\n",
              "      <td>344542</td>\n",
              "    </tr>\n",
              "    <tr>\n",
              "      <th>4</th>\n",
              "      <td>punt</td>\n",
              "      <td>45037</td>\n",
              "    </tr>\n",
              "    <tr>\n",
              "      <th>5</th>\n",
              "      <td>run</td>\n",
              "      <td>254221</td>\n",
              "    </tr>\n",
              "  </tbody>\n",
              "</table>\n",
              "</div>"
            ],
            "text/plain": [
              "     play_type  play_id\n",
              "0  extra_point    22034\n",
              "1   field_goal    18103\n",
              "2      kickoff    47560\n",
              "3         pass   344542\n",
              "4         punt    45037\n",
              "5          run   254221"
            ]
          },
          "metadata": {
            "tags": []
          },
          "execution_count": 40
        }
      ]
    },
    {
      "cell_type": "markdown",
      "metadata": {
        "id": "isF5RBxeRG2y",
        "colab_type": "text"
      },
      "source": [
        "Sweeeet so now we have just the plays we're looking for. Let's make the weights again."
      ]
    },
    {
      "cell_type": "code",
      "metadata": {
        "id": "acNrPK75RL5Y",
        "colab_type": "code",
        "colab": {
          "base_uri": "https://localhost:8080/",
          "height": 32
        },
        "outputId": "88b3adcb-9491-4a55-f35e-b6fe839919ec"
      },
      "source": [
        "weights2 = df3.loc[:,['epa','play_type','defteam','season']].groupby(['defteam','play_type','season'],as_index=False).agg({'epa':'mean'})\n",
        "weights2 = weights2.rename(columns={'epa':'weight'})\n",
        "weights2.columns"
      ],
      "execution_count": null,
      "outputs": [
        {
          "output_type": "execute_result",
          "data": {
            "text/plain": [
              "Index(['defteam', 'play_type', 'season', 'weight'], dtype='object')"
            ]
          },
          "metadata": {
            "tags": []
          },
          "execution_count": 41
        }
      ]
    },
    {
      "cell_type": "code",
      "metadata": {
        "id": "pzW48cnaRVKt",
        "colab_type": "code",
        "colab": {}
      },
      "source": [
        "df3_adj = pd.merge(df3, weights2[['defteam','play_type','season','weight']],on=['defteam','play_type','season'])"
      ],
      "execution_count": null,
      "outputs": []
    },
    {
      "cell_type": "code",
      "metadata": {
        "id": "Aio6kYU7Rv5y",
        "colab_type": "code",
        "colab": {}
      },
      "source": [
        "df3_adj['adj_epa'] = df3_adj['epa'].sub(df3_adj['weight'])\n",
        "df3_adj['change'] = df3_adj['adj_epa'].sub(df3_adj['epa'])\n"
      ],
      "execution_count": null,
      "outputs": []
    },
    {
      "cell_type": "code",
      "metadata": {
        "id": "a3ksDrxlR3XQ",
        "colab_type": "code",
        "colab": {}
      },
      "source": [
        "df3_adj = df3_adj.loc[:,['posteam','epa','adj_epa','change','play_type','season']].groupby(['posteam','season'],as_index=False).agg({'epa':'mean','adj_epa':'mean','change':'mean'})\n",
        "df3_adj = df3_adj.rename(columns=({'posteam':'team'}))"
      ],
      "execution_count": null,
      "outputs": []
    },
    {
      "cell_type": "code",
      "metadata": {
        "id": "SqAKThiWSCod",
        "colab_type": "code",
        "colab": {
          "base_uri": "https://localhost:8080/",
          "height": 411
        },
        "outputId": "3d255df3-74fc-4775-a168-b1e6f51984e1"
      },
      "source": [
        "df3_adj = df3_adj.sort_values('epa',ascending=False)\n",
        "df3_adj"
      ],
      "execution_count": null,
      "outputs": [
        {
          "output_type": "execute_result",
          "data": {
            "text/html": [
              "<div>\n",
              "<style scoped>\n",
              "    .dataframe tbody tr th:only-of-type {\n",
              "        vertical-align: middle;\n",
              "    }\n",
              "\n",
              "    .dataframe tbody tr th {\n",
              "        vertical-align: top;\n",
              "    }\n",
              "\n",
              "    .dataframe thead th {\n",
              "        text-align: right;\n",
              "    }\n",
              "</style>\n",
              "<table border=\"1\" class=\"dataframe\">\n",
              "  <thead>\n",
              "    <tr style=\"text-align: right;\">\n",
              "      <th></th>\n",
              "      <th>team</th>\n",
              "      <th>season</th>\n",
              "      <th>epa</th>\n",
              "      <th>adj_epa</th>\n",
              "      <th>change</th>\n",
              "    </tr>\n",
              "  </thead>\n",
              "  <tbody>\n",
              "    <tr>\n",
              "      <th>383</th>\n",
              "      <td>NE</td>\n",
              "      <td>2007</td>\n",
              "      <td>0.231204</td>\n",
              "      <td>0.212826</td>\n",
              "      <td>-0.018379</td>\n",
              "    </tr>\n",
              "    <tr>\n",
              "      <th>236</th>\n",
              "      <td>IND</td>\n",
              "      <td>2004</td>\n",
              "      <td>0.206457</td>\n",
              "      <td>0.170579</td>\n",
              "      <td>-0.035877</td>\n",
              "    </tr>\n",
              "    <tr>\n",
              "      <th>286</th>\n",
              "      <td>KC</td>\n",
              "      <td>2018</td>\n",
              "      <td>0.201777</td>\n",
              "      <td>0.184563</td>\n",
              "      <td>-0.017214</td>\n",
              "    </tr>\n",
              "    <tr>\n",
              "      <th>387</th>\n",
              "      <td>NE</td>\n",
              "      <td>2011</td>\n",
              "      <td>0.198405</td>\n",
              "      <td>0.176159</td>\n",
              "      <td>-0.022246</td>\n",
              "    </tr>\n",
              "    <tr>\n",
              "      <th>405</th>\n",
              "      <td>NO</td>\n",
              "      <td>2011</td>\n",
              "      <td>0.194876</td>\n",
              "      <td>0.170275</td>\n",
              "      <td>-0.024600</td>\n",
              "    </tr>\n",
              "    <tr>\n",
              "      <th>...</th>\n",
              "      <td>...</td>\n",
              "      <td>...</td>\n",
              "      <td>...</td>\n",
              "      <td>...</td>\n",
              "      <td>...</td>\n",
              "    </tr>\n",
              "    <tr>\n",
              "      <th>297</th>\n",
              "      <td>LA</td>\n",
              "      <td>2011</td>\n",
              "      <td>-0.168364</td>\n",
              "      <td>-0.149384</td>\n",
              "      <td>0.018979</td>\n",
              "    </tr>\n",
              "    <tr>\n",
              "      <th>80</th>\n",
              "      <td>CAR</td>\n",
              "      <td>2010</td>\n",
              "      <td>-0.173095</td>\n",
              "      <td>-0.172459</td>\n",
              "      <td>0.000636</td>\n",
              "    </tr>\n",
              "    <tr>\n",
              "      <th>92</th>\n",
              "      <td>CHI</td>\n",
              "      <td>2004</td>\n",
              "      <td>-0.176987</td>\n",
              "      <td>-0.229572</td>\n",
              "      <td>-0.052585</td>\n",
              "    </tr>\n",
              "    <tr>\n",
              "      <th>328</th>\n",
              "      <td>LV</td>\n",
              "      <td>2006</td>\n",
              "      <td>-0.186084</td>\n",
              "      <td>-0.192761</td>\n",
              "      <td>-0.006678</td>\n",
              "    </tr>\n",
              "    <tr>\n",
              "      <th>16</th>\n",
              "      <td>ARI</td>\n",
              "      <td>2018</td>\n",
              "      <td>-0.206545</td>\n",
              "      <td>-0.212768</td>\n",
              "      <td>-0.006223</td>\n",
              "    </tr>\n",
              "  </tbody>\n",
              "</table>\n",
              "<p>576 rows × 5 columns</p>\n",
              "</div>"
            ],
            "text/plain": [
              "    team  season       epa   adj_epa    change\n",
              "383   NE    2007  0.231204  0.212826 -0.018379\n",
              "236  IND    2004  0.206457  0.170579 -0.035877\n",
              "286   KC    2018  0.201777  0.184563 -0.017214\n",
              "387   NE    2011  0.198405  0.176159 -0.022246\n",
              "405   NO    2011  0.194876  0.170275 -0.024600\n",
              "..   ...     ...       ...       ...       ...\n",
              "297   LA    2011 -0.168364 -0.149384  0.018979\n",
              "80   CAR    2010 -0.173095 -0.172459  0.000636\n",
              "92   CHI    2004 -0.176987 -0.229572 -0.052585\n",
              "328   LV    2006 -0.186084 -0.192761 -0.006678\n",
              "16   ARI    2018 -0.206545 -0.212768 -0.006223\n",
              "\n",
              "[576 rows x 5 columns]"
            ]
          },
          "metadata": {
            "tags": []
          },
          "execution_count": 45
        }
      ]
    },
    {
      "cell_type": "code",
      "metadata": {
        "id": "3XEQpbibSVGh",
        "colab_type": "code",
        "colab": {
          "base_uri": "https://localhost:8080/",
          "height": 411
        },
        "outputId": "158e431f-771d-40d7-8659-32e5e67681bb"
      },
      "source": [
        "results2 = pd.merge(df3_adj, wins[['team','wins','season']],on=['team','season'])\n",
        "results2.sort_values('adj_epa',ascending=False)"
      ],
      "execution_count": null,
      "outputs": [
        {
          "output_type": "execute_result",
          "data": {
            "text/html": [
              "<div>\n",
              "<style scoped>\n",
              "    .dataframe tbody tr th:only-of-type {\n",
              "        vertical-align: middle;\n",
              "    }\n",
              "\n",
              "    .dataframe tbody tr th {\n",
              "        vertical-align: top;\n",
              "    }\n",
              "\n",
              "    .dataframe thead th {\n",
              "        text-align: right;\n",
              "    }\n",
              "</style>\n",
              "<table border=\"1\" class=\"dataframe\">\n",
              "  <thead>\n",
              "    <tr style=\"text-align: right;\">\n",
              "      <th></th>\n",
              "      <th>team</th>\n",
              "      <th>season</th>\n",
              "      <th>epa</th>\n",
              "      <th>adj_epa</th>\n",
              "      <th>change</th>\n",
              "      <th>wins</th>\n",
              "    </tr>\n",
              "  </thead>\n",
              "  <tbody>\n",
              "    <tr>\n",
              "      <th>0</th>\n",
              "      <td>NE</td>\n",
              "      <td>2007</td>\n",
              "      <td>0.231204</td>\n",
              "      <td>0.212826</td>\n",
              "      <td>-0.018379</td>\n",
              "      <td>16</td>\n",
              "    </tr>\n",
              "    <tr>\n",
              "      <th>6</th>\n",
              "      <td>NE</td>\n",
              "      <td>2010</td>\n",
              "      <td>0.194236</td>\n",
              "      <td>0.197561</td>\n",
              "      <td>0.003325</td>\n",
              "      <td>14</td>\n",
              "    </tr>\n",
              "    <tr>\n",
              "      <th>2</th>\n",
              "      <td>KC</td>\n",
              "      <td>2018</td>\n",
              "      <td>0.201777</td>\n",
              "      <td>0.184563</td>\n",
              "      <td>-0.017214</td>\n",
              "      <td>12</td>\n",
              "    </tr>\n",
              "    <tr>\n",
              "      <th>7</th>\n",
              "      <td>ATL</td>\n",
              "      <td>2016</td>\n",
              "      <td>0.189197</td>\n",
              "      <td>0.181698</td>\n",
              "      <td>-0.007499</td>\n",
              "      <td>11</td>\n",
              "    </tr>\n",
              "    <tr>\n",
              "      <th>12</th>\n",
              "      <td>BAL</td>\n",
              "      <td>2019</td>\n",
              "      <td>0.165633</td>\n",
              "      <td>0.179850</td>\n",
              "      <td>0.014216</td>\n",
              "      <td>14</td>\n",
              "    </tr>\n",
              "    <tr>\n",
              "      <th>...</th>\n",
              "      <td>...</td>\n",
              "      <td>...</td>\n",
              "      <td>...</td>\n",
              "      <td>...</td>\n",
              "      <td>...</td>\n",
              "      <td>...</td>\n",
              "    </tr>\n",
              "    <tr>\n",
              "      <th>565</th>\n",
              "      <td>HOU</td>\n",
              "      <td>2002</td>\n",
              "      <td>-0.149033</td>\n",
              "      <td>-0.168774</td>\n",
              "      <td>-0.019742</td>\n",
              "      <td>4</td>\n",
              "    </tr>\n",
              "    <tr>\n",
              "      <th>572</th>\n",
              "      <td>CAR</td>\n",
              "      <td>2010</td>\n",
              "      <td>-0.173095</td>\n",
              "      <td>-0.172459</td>\n",
              "      <td>0.000636</td>\n",
              "      <td>2</td>\n",
              "    </tr>\n",
              "    <tr>\n",
              "      <th>574</th>\n",
              "      <td>LV</td>\n",
              "      <td>2006</td>\n",
              "      <td>-0.186084</td>\n",
              "      <td>-0.192761</td>\n",
              "      <td>-0.006678</td>\n",
              "      <td>2</td>\n",
              "    </tr>\n",
              "    <tr>\n",
              "      <th>575</th>\n",
              "      <td>ARI</td>\n",
              "      <td>2018</td>\n",
              "      <td>-0.206545</td>\n",
              "      <td>-0.212768</td>\n",
              "      <td>-0.006223</td>\n",
              "      <td>3</td>\n",
              "    </tr>\n",
              "    <tr>\n",
              "      <th>573</th>\n",
              "      <td>CHI</td>\n",
              "      <td>2004</td>\n",
              "      <td>-0.176987</td>\n",
              "      <td>-0.229572</td>\n",
              "      <td>-0.052585</td>\n",
              "      <td>5</td>\n",
              "    </tr>\n",
              "  </tbody>\n",
              "</table>\n",
              "<p>576 rows × 6 columns</p>\n",
              "</div>"
            ],
            "text/plain": [
              "    team  season       epa   adj_epa    change  wins\n",
              "0     NE    2007  0.231204  0.212826 -0.018379    16\n",
              "6     NE    2010  0.194236  0.197561  0.003325    14\n",
              "2     KC    2018  0.201777  0.184563 -0.017214    12\n",
              "7    ATL    2016  0.189197  0.181698 -0.007499    11\n",
              "12   BAL    2019  0.165633  0.179850  0.014216    14\n",
              "..   ...     ...       ...       ...       ...   ...\n",
              "565  HOU    2002 -0.149033 -0.168774 -0.019742     4\n",
              "572  CAR    2010 -0.173095 -0.172459  0.000636     2\n",
              "574   LV    2006 -0.186084 -0.192761 -0.006678     2\n",
              "575  ARI    2018 -0.206545 -0.212768 -0.006223     3\n",
              "573  CHI    2004 -0.176987 -0.229572 -0.052585     5\n",
              "\n",
              "[576 rows x 6 columns]"
            ]
          },
          "metadata": {
            "tags": []
          },
          "execution_count": 46
        }
      ]
    },
    {
      "cell_type": "code",
      "metadata": {
        "id": "unbEp16iSoJA",
        "colab_type": "code",
        "colab": {}
      },
      "source": [
        "def  epa_plot(x,y,title,data,color='k'):\n",
        "  _data = data.dropna(subset=[x,y]) \n",
        "  r2 = pearsonr(_data.loc[:,x],_data.loc[:,y])[0]**2 \n",
        "  rmse = mean_squared_error(_data.loc[:,x],_data.loc[:,y])**0.5 \n",
        "  f = sns.regplot(x,y,data=_data,color=color,line_kws={'color':'k'})\n",
        "  # f.set_aspect('equal')\n",
        "  sns.despine()\n",
        "  plt.title(f'{title}\\nR2: {round(r2,3)}\\nRMSE: {round(rmse,3)}')\n",
        "  plt.show()"
      ],
      "execution_count": null,
      "outputs": []
    },
    {
      "cell_type": "code",
      "metadata": {
        "id": "P0mOumiPSpfM",
        "colab_type": "code",
        "colab": {}
      },
      "source": [
        "palette = sns.palettes.hls_palette(10)"
      ],
      "execution_count": null,
      "outputs": []
    },
    {
      "cell_type": "code",
      "metadata": {
        "id": "1msgCTY3SutK",
        "colab_type": "code",
        "colab": {
          "base_uri": "https://localhost:8080/",
          "height": 631
        },
        "outputId": "3e393c71-8027-45e6-8bad-7e8bb266d4b6"
      },
      "source": [
        "epa_plot('epa','wins','EPA vs. Wins',results2,color=palette[0])\n",
        "epa_plot('adj_epa','wins','Adjusted EPA vs. Wins',results2,color=palette[1])"
      ],
      "execution_count": null,
      "outputs": [
        {
          "output_type": "display_data",
          "data": {
            "image/png": "[encoded data removed]",
            "text/plain": [
              "<Figure size 432x288 with 1 Axes>"
            ]
          },
          "metadata": {
            "tags": [],
            "needs_background": "light"
          }
        },
        {
          "output_type": "display_data",
          "data": {
            "image/png": "[encoded data removed]",
            "text/plain": [
              "<Figure size 432x288 with 1 Axes>"
            ]
          },
          "metadata": {
            "tags": [],
            "needs_background": "light"
          }
        }
      ]
    }
  ]
}